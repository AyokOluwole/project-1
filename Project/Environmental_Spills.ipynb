{
 "cells": [
  {
   "cell_type": "code",
   "execution_count": 33,
   "metadata": {},
   "outputs": [],
   "source": [
    "import pandas as pd"
   ]
  },
  {
   "cell_type": "code",
   "execution_count": 34,
   "metadata": {},
   "outputs": [],
   "source": [
    "# Store filepath in a variable\n",
    "spills_file = \"../Project/Resources/Raw_Data/spills_occurrences_2021.csv\""
   ]
  },
  {
   "cell_type": "code",
   "execution_count": 35,
   "metadata": {},
   "outputs": [
    {
     "data": {
      "text/plain": [
       "Index(['Date Reported', 'Time Reported', 'Reference Number',\n",
       "       'Site Municipality', 'Contaminant Name', 'Receiving Media',\n",
       "       'Health Impact', 'Environmental Impact',\n",
       "       'Health/Environmental Consequence', 'Sector Type', 'Source Type',\n",
       "       'Source/Sector Type', 'Incident Event', 'Incident Reason'],\n",
       "      dtype='object')"
      ]
     },
     "execution_count": 35,
     "metadata": {},
     "output_type": "execute_result"
    }
   ],
   "source": [
    "# Read the Data file with the pandas library\n",
    "spills_df = pd.read_csv(spills_file)\n",
    "\n",
    "spills_df.columns"
   ]
  },
  {
   "cell_type": "code",
   "execution_count": 60,
   "metadata": {},
   "outputs": [
    {
     "data": {
      "text/html": [
       "<div>\n",
       "<style scoped>\n",
       "    .dataframe tbody tr th:only-of-type {\n",
       "        vertical-align: middle;\n",
       "    }\n",
       "\n",
       "    .dataframe tbody tr th {\n",
       "        vertical-align: top;\n",
       "    }\n",
       "\n",
       "    .dataframe thead th {\n",
       "        text-align: right;\n",
       "    }\n",
       "</style>\n",
       "<table border=\"1\" class=\"dataframe\">\n",
       "  <thead>\n",
       "    <tr style=\"text-align: right;\">\n",
       "      <th></th>\n",
       "      <th>Site Municipality</th>\n",
       "      <th>Contaminant Name</th>\n",
       "    </tr>\n",
       "  </thead>\n",
       "  <tbody>\n",
       "    <tr>\n",
       "      <th>0</th>\n",
       "      <td>TORONTO</td>\n",
       "      <td>DIESEL FUEL</td>\n",
       "    </tr>\n",
       "    <tr>\n",
       "      <th>1</th>\n",
       "      <td>SOUTH FRONTENAC</td>\n",
       "      <td>OIL AND GREASE</td>\n",
       "    </tr>\n",
       "    <tr>\n",
       "      <th>2</th>\n",
       "      <td>OSHAWA</td>\n",
       "      <td>FURNACE OIL</td>\n",
       "    </tr>\n",
       "    <tr>\n",
       "      <th>3</th>\n",
       "      <td>HAMILTON</td>\n",
       "      <td>CUTTING/THREADING OIL</td>\n",
       "    </tr>\n",
       "    <tr>\n",
       "      <th>4</th>\n",
       "      <td>COBOURG</td>\n",
       "      <td>OIL AND GREASE</td>\n",
       "    </tr>\n",
       "  </tbody>\n",
       "</table>\n",
       "</div>"
      ],
      "text/plain": [
       "  Site Municipality       Contaminant Name\n",
       "0           TORONTO            DIESEL FUEL\n",
       "1   SOUTH FRONTENAC         OIL AND GREASE\n",
       "2            OSHAWA            FURNACE OIL\n",
       "3          HAMILTON  CUTTING/THREADING OIL\n",
       "4           COBOURG         OIL AND GREASE"
      ]
     },
     "execution_count": 60,
     "metadata": {},
     "output_type": "execute_result"
    }
   ],
   "source": [
    "organized_df = spills_df[['Site Municipality', 'Contaminant Name']]\n",
    "\n",
    "organized_df.head()"
   ]
  },
  {
   "cell_type": "code",
   "execution_count": 62,
   "metadata": {},
   "outputs": [
    {
     "data": {
      "text/html": [
       "<div>\n",
       "<style scoped>\n",
       "    .dataframe tbody tr th:only-of-type {\n",
       "        vertical-align: middle;\n",
       "    }\n",
       "\n",
       "    .dataframe tbody tr th {\n",
       "        vertical-align: top;\n",
       "    }\n",
       "\n",
       "    .dataframe thead th {\n",
       "        text-align: right;\n",
       "    }\n",
       "</style>\n",
       "<table border=\"1\" class=\"dataframe\">\n",
       "  <thead>\n",
       "    <tr style=\"text-align: right;\">\n",
       "      <th></th>\n",
       "      <th># of Health Impacts due to spills</th>\n",
       "    </tr>\n",
       "    <tr>\n",
       "      <th>Site Municipality</th>\n",
       "      <th></th>\n",
       "    </tr>\n",
       "  </thead>\n",
       "  <tbody>\n",
       "    <tr>\n",
       "      <th>TORONTO</th>\n",
       "      <td>43</td>\n",
       "    </tr>\n",
       "    <tr>\n",
       "      <th>OTTAWA</th>\n",
       "      <td>15</td>\n",
       "    </tr>\n",
       "    <tr>\n",
       "      <th>LONDON</th>\n",
       "      <td>13</td>\n",
       "    </tr>\n",
       "    <tr>\n",
       "      <th>HAMILTON</th>\n",
       "      <td>13</td>\n",
       "    </tr>\n",
       "    <tr>\n",
       "      <th>MISSISSAUGA</th>\n",
       "      <td>12</td>\n",
       "    </tr>\n",
       "    <tr>\n",
       "      <th>...</th>\n",
       "      <td>...</td>\n",
       "    </tr>\n",
       "    <tr>\n",
       "      <th>IROQUOIS FALLS</th>\n",
       "      <td>1</td>\n",
       "    </tr>\n",
       "    <tr>\n",
       "      <th>HEARST</th>\n",
       "      <td>1</td>\n",
       "    </tr>\n",
       "    <tr>\n",
       "      <th>HAWKESBURY</th>\n",
       "      <td>1</td>\n",
       "    </tr>\n",
       "    <tr>\n",
       "      <th>HAVELOCK-BELMONT-METHUEN</th>\n",
       "      <td>1</td>\n",
       "    </tr>\n",
       "    <tr>\n",
       "      <th>ZORRA</th>\n",
       "      <td>1</td>\n",
       "    </tr>\n",
       "  </tbody>\n",
       "</table>\n",
       "<p>135 rows × 1 columns</p>\n",
       "</div>"
      ],
      "text/plain": [
       "                          # of Health Impacts due to spills\n",
       "Site Municipality                                          \n",
       "TORONTO                                                  43\n",
       "OTTAWA                                                   15\n",
       "LONDON                                                   13\n",
       "HAMILTON                                                 13\n",
       "MISSISSAUGA                                              12\n",
       "...                                                     ...\n",
       "IROQUOIS FALLS                                            1\n",
       "HEARST                                                    1\n",
       "HAWKESBURY                                                1\n",
       "HAVELOCK-BELMONT-METHUEN                                  1\n",
       "ZORRA                                                     1\n",
       "\n",
       "[135 rows x 1 columns]"
      ]
     },
     "execution_count": 62,
     "metadata": {},
     "output_type": "execute_result"
    }
   ],
   "source": [
    "#Group by Cities and sum the categories\n",
    "organized_df = organized_df.rename(columns={'Contaminant Name': \"# of Health Impacts due to spills\"})\n",
    "\n",
    "grouped_df = organized_df.groupby(['Site Municipality']).count()\n",
    "\n",
    "grouped_df.sort_values([\"# of Health Impacts due to spills\"], ascending=False)"
   ]
  },
  {
   "cell_type": "code",
   "execution_count": 63,
   "metadata": {},
   "outputs": [],
   "source": [
    "#Save the final copy to CSV\n",
    "\n",
    "grouped_df.to_csv(\"../Project/Resources/Cleaned_Data/Environmental_Spills.csv\")"
   ]
  }
 ],
 "metadata": {
  "kernelspec": {
   "display_name": "Python 3",
   "language": "python",
   "name": "python3"
  },
  "language_info": {
   "codemirror_mode": {
    "name": "ipython",
    "version": 3
   },
   "file_extension": ".py",
   "mimetype": "text/x-python",
   "name": "python",
   "nbconvert_exporter": "python",
   "pygments_lexer": "ipython3",
   "version": "3.10.7"
  },
  "orig_nbformat": 4,
  "vscode": {
   "interpreter": {
    "hash": "e657b2fc417f4b9571d2515230413541d8c4188abfc93faf463c5a7b3af9642e"
   }
  }
 },
 "nbformat": 4,
 "nbformat_minor": 2
}
