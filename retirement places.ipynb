{
 "cells": [
  {
   "cell_type": "code",
   "execution_count": 1,
   "id": "02ce146b",
   "metadata": {},
   "outputs": [],
   "source": [
    "import matplotlib.pyplot as plt\n",
    "import requests\n",
    "from scipy import stats\n",
    "import os\n",
    "import pandas as pd"
   ]
  },
  {
   "cell_type": "code",
   "execution_count": 43,
   "id": "b7e644ed",
   "metadata": {},
   "outputs": [
    {
     "data": {
      "text/plain": [
       "'retirement.csv'"
      ]
     },
     "execution_count": 43,
     "metadata": {},
     "output_type": "execute_result"
    }
   ],
   "source": [
    "file_to_load = \"retirement.csv\"\n",
    "file_to_load"
   ]
  },
  {
   "cell_type": "code",
   "execution_count": 44,
   "id": "9d3819a2",
   "metadata": {},
   "outputs": [
    {
     "data": {
      "text/html": [
       "<div>\n",
       "<style scoped>\n",
       "    .dataframe tbody tr th:only-of-type {\n",
       "        vertical-align: middle;\n",
       "    }\n",
       "\n",
       "    .dataframe tbody tr th {\n",
       "        vertical-align: top;\n",
       "    }\n",
       "\n",
       "    .dataframe thead th {\n",
       "        text-align: right;\n",
       "    }\n",
       "</style>\n",
       "<table border=\"1\" class=\"dataframe\">\n",
       "  <thead>\n",
       "    <tr style=\"text-align: right;\">\n",
       "      <th></th>\n",
       "      <th>X</th>\n",
       "      <th>Y</th>\n",
       "      <th>FID</th>\n",
       "      <th>OGF_ID</th>\n",
       "      <th>MOH_PRO_ID</th>\n",
       "      <th>SERV_TYPE</th>\n",
       "      <th>SERV_DET</th>\n",
       "      <th>EN_NAME</th>\n",
       "      <th>FR_NAME</th>\n",
       "      <th>EN_ALT</th>\n",
       "      <th>FR_ALT</th>\n",
       "      <th>ADDRESS_1</th>\n",
       "      <th>ADDRESS_2</th>\n",
       "      <th>ADDR_DESCR</th>\n",
       "      <th>COMMUNITY</th>\n",
       "      <th>POSTALCODE</th>\n",
       "      <th>GEO_UPT_DT</th>\n",
       "      <th>EFF_DATE</th>\n",
       "    </tr>\n",
       "  </thead>\n",
       "  <tbody>\n",
       "    <tr>\n",
       "      <th>0</th>\n",
       "      <td>-79.670559</td>\n",
       "      <td>43.592588</td>\n",
       "      <td>20</td>\n",
       "      <td>172386823</td>\n",
       "      <td>T0165</td>\n",
       "      <td>Retirement Home</td>\n",
       "      <td></td>\n",
       "      <td>Evergreen Retirement Residence</td>\n",
       "      <td></td>\n",
       "      <td></td>\n",
       "      <td></td>\n",
       "      <td>820 Scollard Court</td>\n",
       "      <td></td>\n",
       "      <td></td>\n",
       "      <td>Mississauga</td>\n",
       "      <td>L5V0A1</td>\n",
       "      <td>20220428140054</td>\n",
       "      <td>20220426154720</td>\n",
       "    </tr>\n",
       "    <tr>\n",
       "      <th>1</th>\n",
       "      <td>-77.141099</td>\n",
       "      <td>45.832070</td>\n",
       "      <td>30</td>\n",
       "      <td>172386730</td>\n",
       "      <td>N0062</td>\n",
       "      <td>Retirement Home</td>\n",
       "      <td></td>\n",
       "      <td>Chartwell Pembroke Heritage Retirement Residence</td>\n",
       "      <td></td>\n",
       "      <td></td>\n",
       "      <td></td>\n",
       "      <td>1111 Pembroke Street</td>\n",
       "      <td></td>\n",
       "      <td></td>\n",
       "      <td>Pembroke</td>\n",
       "      <td>K8A8P6</td>\n",
       "      <td>20220428140111</td>\n",
       "      <td>20220426154707</td>\n",
       "    </tr>\n",
       "    <tr>\n",
       "      <th>2</th>\n",
       "      <td>-77.787760</td>\n",
       "      <td>44.123855</td>\n",
       "      <td>43</td>\n",
       "      <td>172386849</td>\n",
       "      <td>N0007</td>\n",
       "      <td>Retirement Home</td>\n",
       "      <td></td>\n",
       "      <td>Golden Pond Retirement Residence</td>\n",
       "      <td></td>\n",
       "      <td></td>\n",
       "      <td></td>\n",
       "      <td>387 Goodrich Road</td>\n",
       "      <td></td>\n",
       "      <td></td>\n",
       "      <td>Codrington</td>\n",
       "      <td>K0K1R0</td>\n",
       "      <td>20220428140000</td>\n",
       "      <td>20220426154723</td>\n",
       "    </tr>\n",
       "    <tr>\n",
       "      <th>3</th>\n",
       "      <td>-81.241816</td>\n",
       "      <td>42.970855</td>\n",
       "      <td>44</td>\n",
       "      <td>172386853</td>\n",
       "      <td>S0386</td>\n",
       "      <td>Retirement Home</td>\n",
       "      <td></td>\n",
       "      <td>Grand Wood Park</td>\n",
       "      <td></td>\n",
       "      <td></td>\n",
       "      <td></td>\n",
       "      <td>81 Grand Avenue</td>\n",
       "      <td></td>\n",
       "      <td></td>\n",
       "      <td>London</td>\n",
       "      <td>N6C1M2</td>\n",
       "      <td>20220428140036</td>\n",
       "      <td>20220426154724</td>\n",
       "    </tr>\n",
       "    <tr>\n",
       "      <th>4</th>\n",
       "      <td>-75.755494</td>\n",
       "      <td>45.342838</td>\n",
       "      <td>65</td>\n",
       "      <td>172386775</td>\n",
       "      <td>N0410</td>\n",
       "      <td>Retirement Home</td>\n",
       "      <td></td>\n",
       "      <td>City View Retirement Community</td>\n",
       "      <td></td>\n",
       "      <td></td>\n",
       "      <td></td>\n",
       "      <td>151 Meadowlands Drive</td>\n",
       "      <td></td>\n",
       "      <td></td>\n",
       "      <td>Ottawa</td>\n",
       "      <td>K2G2S3</td>\n",
       "      <td>20220428140112</td>\n",
       "      <td>20220426154713</td>\n",
       "    </tr>\n",
       "  </tbody>\n",
       "</table>\n",
       "</div>"
      ],
      "text/plain": [
       "           X          Y  FID     OGF_ID MOH_PRO_ID        SERV_TYPE SERV_DET  \\\n",
       "0 -79.670559  43.592588   20  172386823      T0165  Retirement Home            \n",
       "1 -77.141099  45.832070   30  172386730      N0062  Retirement Home            \n",
       "2 -77.787760  44.123855   43  172386849      N0007  Retirement Home            \n",
       "3 -81.241816  42.970855   44  172386853      S0386  Retirement Home            \n",
       "4 -75.755494  45.342838   65  172386775      N0410  Retirement Home            \n",
       "\n",
       "                                            EN_NAME FR_NAME EN_ALT FR_ALT  \\\n",
       "0                    Evergreen Retirement Residence                         \n",
       "1  Chartwell Pembroke Heritage Retirement Residence                         \n",
       "2                  Golden Pond Retirement Residence                         \n",
       "3                                   Grand Wood Park                         \n",
       "4                    City View Retirement Community                         \n",
       "\n",
       "               ADDRESS_1 ADDRESS_2 ADDR_DESCR    COMMUNITY POSTALCODE  \\\n",
       "0     820 Scollard Court                       Mississauga     L5V0A1   \n",
       "1   1111 Pembroke Street                          Pembroke     K8A8P6   \n",
       "2      387 Goodrich Road                        Codrington     K0K1R0   \n",
       "3        81 Grand Avenue                            London     N6C1M2   \n",
       "4  151 Meadowlands Drive                            Ottawa     K2G2S3   \n",
       "\n",
       "       GEO_UPT_DT        EFF_DATE  \n",
       "0  20220428140054  20220426154720  \n",
       "1  20220428140111  20220426154707  \n",
       "2  20220428140000  20220426154723  \n",
       "3  20220428140036  20220426154724  \n",
       "4  20220428140112  20220426154713  "
      ]
     },
     "execution_count": 44,
     "metadata": {},
     "output_type": "execute_result"
    }
   ],
   "source": [
    "retirement_df = pd.read_csv(file_to_load, encoding='UTF-8')\n",
    "retirement_df.head(5)"
   ]
  },
  {
   "cell_type": "code",
   "execution_count": 45,
   "id": "76eab524",
   "metadata": {},
   "outputs": [
    {
     "data": {
      "text/html": [
       "<div>\n",
       "<style scoped>\n",
       "    .dataframe tbody tr th:only-of-type {\n",
       "        vertical-align: middle;\n",
       "    }\n",
       "\n",
       "    .dataframe tbody tr th {\n",
       "        vertical-align: top;\n",
       "    }\n",
       "\n",
       "    .dataframe thead th {\n",
       "        text-align: right;\n",
       "    }\n",
       "</style>\n",
       "<table border=\"1\" class=\"dataframe\">\n",
       "  <thead>\n",
       "    <tr style=\"text-align: right;\">\n",
       "      <th></th>\n",
       "      <th>SERV_TYPE</th>\n",
       "      <th>EN_NAME</th>\n",
       "      <th>ADDRESS_1</th>\n",
       "      <th>COMMUNITY</th>\n",
       "    </tr>\n",
       "  </thead>\n",
       "  <tbody>\n",
       "    <tr>\n",
       "      <th>0</th>\n",
       "      <td>Retirement Home</td>\n",
       "      <td>Evergreen Retirement Residence</td>\n",
       "      <td>820 Scollard Court</td>\n",
       "      <td>Mississauga</td>\n",
       "    </tr>\n",
       "    <tr>\n",
       "      <th>1</th>\n",
       "      <td>Retirement Home</td>\n",
       "      <td>Chartwell Pembroke Heritage Retirement Residence</td>\n",
       "      <td>1111 Pembroke Street</td>\n",
       "      <td>Pembroke</td>\n",
       "    </tr>\n",
       "    <tr>\n",
       "      <th>2</th>\n",
       "      <td>Retirement Home</td>\n",
       "      <td>Golden Pond Retirement Residence</td>\n",
       "      <td>387 Goodrich Road</td>\n",
       "      <td>Codrington</td>\n",
       "    </tr>\n",
       "    <tr>\n",
       "      <th>3</th>\n",
       "      <td>Retirement Home</td>\n",
       "      <td>Grand Wood Park</td>\n",
       "      <td>81 Grand Avenue</td>\n",
       "      <td>London</td>\n",
       "    </tr>\n",
       "    <tr>\n",
       "      <th>4</th>\n",
       "      <td>Retirement Home</td>\n",
       "      <td>City View Retirement Community</td>\n",
       "      <td>151 Meadowlands Drive</td>\n",
       "      <td>Ottawa</td>\n",
       "    </tr>\n",
       "  </tbody>\n",
       "</table>\n",
       "</div>"
      ],
      "text/plain": [
       "         SERV_TYPE                                           EN_NAME  \\\n",
       "0  Retirement Home                    Evergreen Retirement Residence   \n",
       "1  Retirement Home  Chartwell Pembroke Heritage Retirement Residence   \n",
       "2  Retirement Home                  Golden Pond Retirement Residence   \n",
       "3  Retirement Home                                   Grand Wood Park   \n",
       "4  Retirement Home                    City View Retirement Community   \n",
       "\n",
       "               ADDRESS_1    COMMUNITY  \n",
       "0     820 Scollard Court  Mississauga  \n",
       "1   1111 Pembroke Street     Pembroke  \n",
       "2      387 Goodrich Road   Codrington  \n",
       "3        81 Grand Avenue       London  \n",
       "4  151 Meadowlands Drive       Ottawa  "
      ]
     },
     "execution_count": 45,
     "metadata": {},
     "output_type": "execute_result"
    }
   ],
   "source": [
    "cleaned_df = retirement_df[['SERV_TYPE', 'EN_NAME', 'ADDRESS_1', 'COMMUNITY']]\n",
    "cleaned_df.head()"
   ]
  },
  {
   "cell_type": "code",
   "execution_count": 46,
   "id": "96e3a5db",
   "metadata": {},
   "outputs": [
    {
     "data": {
      "text/plain": [
       "array(['Mississauga', 'Pembroke', 'Codrington', 'London', 'Ottawa',\n",
       "       'Hamilton', 'Burlington', 'Kingston', 'Bruce Mines', 'Shelburne',\n",
       "       'Toronto', 'Sarnia', 'Bradford West Gwillimbury', 'Madoc',\n",
       "       'Elmira', 'Cornwall', 'Vaughan', 'Ingersoll', 'Uxbridge',\n",
       "       'Hanover', 'Exeter', 'Peterborough', 'Tamworth', 'Cobourg',\n",
       "       'Alexandria', 'Brighton', 'Orillia', 'Maryhill', 'Owen Sound',\n",
       "       'Huntsville', 'Hensall', 'Lucan', 'Thunder Bay', 'Collingwood',\n",
       "       'Pickering', 'Whitby', 'Delhi', 'Simcoe', 'Brampton', 'Kingsville',\n",
       "       'Belleville', 'North Bay', 'Penetanguishene', 'New Tecumseth',\n",
       "       'Brantford', 'Smiths Falls', 'Ripley', 'Townsend', 'Campbellford',\n",
       "       'Carleton Place', 'Green Valley', 'Maberly', 'Kemptville',\n",
       "       'Midland', 'Bracebridge', 'Brockville', 'Lefaivre',\n",
       "       'Kawartha Lakes', 'Petrolia', 'Fort Erie', 'Timmins', 'Markham',\n",
       "       'Guelph', 'Richmond Hill', 'Curran', 'Quinte West', 'Fergus',\n",
       "       'Oakville', 'Kitchener', 'Greater Sudbury', 'Goderich',\n",
       "       'Port Hope', 'Saint Isidore', 'Wallaceburg', 'Dresden',\n",
       "       'Halton Hills', 'Grimsby', 'St. Jacobs', 'Tillsonburg', 'Seaforth',\n",
       "       'Newmarket', 'Wasaga Beach', 'Milton', 'Belle River',\n",
       "       'Saint Marys', 'Stirling', 'Waterloo', 'Cambridge', 'Harriston',\n",
       "       'Renfrew', 'Prince Edward', 'Orangeville', 'Gananoque', 'Barrie',\n",
       "       \"Seeley's Bay\", 'Brunner', 'Arnprior', 'Oshawa', 'Lancaster',\n",
       "       'Courtice', 'Ajax', 'Aurora', 'Amherstview', 'Parry Sound',\n",
       "       'Chatham', 'Niagara Falls', 'Sault Ste. Marie', 'Beachburg',\n",
       "       'Windsor', 'Listowel', 'Acton', 'Essex', 'Watford', 'St. Thomas',\n",
       "       'Welland', 'Arthur', 'Alfred', 'Stratford', 'Waterford', 'Lincoln',\n",
       "       'Wheatley', 'Pelham', 'Clarence-Rockland', 'Embrun', 'Dorchester',\n",
       "       'Cobden', 'Perth', 'Brant', 'Lombardy', 'Gravenhurst', 'Marmora',\n",
       "       'Hagersville', 'Norwood', 'Georgina', 'Mount Forest', 'Hawkesbury',\n",
       "       'Casselman', 'Aylmer', 'Tavistock', 'Elora', 'Southampton',\n",
       "       'Norwich', 'St. Catharines', 'Port Colborne', 'Stayner',\n",
       "       'Port Perry', 'Bowmanville', 'Ridgetown', 'Durham', 'Caledonia',\n",
       "       'Cargill', 'Haliburton', 'Sunderland', 'Limoges', 'Leamington',\n",
       "       'Mississippi Mills', 'Tilbury', \"Barry's Bay\",\n",
       "       'Whitchurch-Stouffville', 'Port Elgin', 'Godfrey', 'Corbeil',\n",
       "       'Woodstock', 'Erin', 'St-Albert', 'Bolton', 'Kincardine',\n",
       "       'Thornbury', 'Thedford', 'Blenheim', 'Chesley', 'Chesterville',\n",
       "       'Perth Road', 'Morrisburg', 'Elliot Lake', 'Wingham',\n",
       "       'East Gwillimbury', 'Napanee', 'Strathroy', 'Innisfil',\n",
       "       'Wardsville', 'Lakefield', 'Lucknow', 'New Hamburg', 'Wiarton',\n",
       "       'Beamsville', 'Russell', 'Vankleek Hill', 'Walkerton', 'Thorold',\n",
       "       'Londesborough', 'Waubaushene', 'Long Sault', 'Jarvis', 'Prescott',\n",
       "       'Moonbeam', 'Amherstburg', 'Temiskaming Shores',\n",
       "       'Chute-à-Blondeau', 'Palmerston'], dtype=object)"
      ]
     },
     "execution_count": 46,
     "metadata": {},
     "output_type": "execute_result"
    }
   ],
   "source": [
    "cleaned_df[\"COMMUNITY\"].unique()"
   ]
  },
  {
   "cell_type": "code",
   "execution_count": 47,
   "id": "d817b955",
   "metadata": {},
   "outputs": [],
   "source": [
    "city_statistics = cleaned_df.groupby('COMMUNITY')\n"
   ]
  },
  {
   "cell_type": "code",
   "execution_count": 48,
   "id": "f71ca6b0",
   "metadata": {},
   "outputs": [
    {
     "data": {
      "text/plain": [
       "COMMUNITY\n",
       "Ottawa         80\n",
       "Toronto        76\n",
       "Hamilton       33\n",
       "Mississauga    23\n",
       "London         20\n",
       "Kitchener      15\n",
       "Barrie         12\n",
       "Windsor        12\n",
       "Oakville       12\n",
       "Burlington     11\n",
       "Name: COMMUNITY, dtype: int64"
      ]
     },
     "execution_count": 48,
     "metadata": {},
     "output_type": "execute_result"
    }
   ],
   "source": [
    "city_count = city_statistics[\"COMMUNITY\"].count().sort_values(ascending = False)\n",
    "city_count.head(10)"
   ]
  },
  {
   "cell_type": "code",
   "execution_count": 50,
   "id": "6baae456",
   "metadata": {},
   "outputs": [],
   "source": [
    "city_count.to_csv('output/city_count.csv')"
   ]
  },
  {
   "cell_type": "code",
   "execution_count": 49,
   "id": "b3eed4bc",
   "metadata": {},
   "outputs": [],
   "source": [
    "#cityplot = city_count.plot(kind='bar',figsize= (10,5),width=0.5)\n",
    "#cityplot.set_xlabel('City')\n",
    "#cityplot.set_ylabel ('Number of Retirement Home')"
   ]
  },
  {
   "cell_type": "code",
   "execution_count": 51,
   "id": "3e71da0c",
   "metadata": {},
   "outputs": [],
   "source": [
    "to_load = \"output/city_count.csv\""
   ]
  },
  {
   "cell_type": "code",
   "execution_count": 52,
   "id": "8bb9d003",
   "metadata": {},
   "outputs": [
    {
     "data": {
      "text/html": [
       "<div>\n",
       "<style scoped>\n",
       "    .dataframe tbody tr th:only-of-type {\n",
       "        vertical-align: middle;\n",
       "    }\n",
       "\n",
       "    .dataframe tbody tr th {\n",
       "        vertical-align: top;\n",
       "    }\n",
       "\n",
       "    .dataframe thead th {\n",
       "        text-align: right;\n",
       "    }\n",
       "</style>\n",
       "<table border=\"1\" class=\"dataframe\">\n",
       "  <thead>\n",
       "    <tr style=\"text-align: right;\">\n",
       "      <th></th>\n",
       "      <th>COMMUNITY</th>\n",
       "      <th>COMMUNITY.1</th>\n",
       "    </tr>\n",
       "  </thead>\n",
       "  <tbody>\n",
       "    <tr>\n",
       "      <th>0</th>\n",
       "      <td>Ottawa</td>\n",
       "      <td>80</td>\n",
       "    </tr>\n",
       "    <tr>\n",
       "      <th>1</th>\n",
       "      <td>Toronto</td>\n",
       "      <td>76</td>\n",
       "    </tr>\n",
       "    <tr>\n",
       "      <th>2</th>\n",
       "      <td>Hamilton</td>\n",
       "      <td>33</td>\n",
       "    </tr>\n",
       "    <tr>\n",
       "      <th>3</th>\n",
       "      <td>Mississauga</td>\n",
       "      <td>23</td>\n",
       "    </tr>\n",
       "    <tr>\n",
       "      <th>4</th>\n",
       "      <td>London</td>\n",
       "      <td>20</td>\n",
       "    </tr>\n",
       "    <tr>\n",
       "      <th>5</th>\n",
       "      <td>Kitchener</td>\n",
       "      <td>15</td>\n",
       "    </tr>\n",
       "    <tr>\n",
       "      <th>6</th>\n",
       "      <td>Barrie</td>\n",
       "      <td>12</td>\n",
       "    </tr>\n",
       "    <tr>\n",
       "      <th>7</th>\n",
       "      <td>Windsor</td>\n",
       "      <td>12</td>\n",
       "    </tr>\n",
       "    <tr>\n",
       "      <th>8</th>\n",
       "      <td>Oakville</td>\n",
       "      <td>12</td>\n",
       "    </tr>\n",
       "    <tr>\n",
       "      <th>9</th>\n",
       "      <td>Burlington</td>\n",
       "      <td>11</td>\n",
       "    </tr>\n",
       "  </tbody>\n",
       "</table>\n",
       "</div>"
      ],
      "text/plain": [
       "     COMMUNITY  COMMUNITY.1\n",
       "0       Ottawa           80\n",
       "1      Toronto           76\n",
       "2     Hamilton           33\n",
       "3  Mississauga           23\n",
       "4       London           20\n",
       "5    Kitchener           15\n",
       "6       Barrie           12\n",
       "7      Windsor           12\n",
       "8     Oakville           12\n",
       "9   Burlington           11"
      ]
     },
     "execution_count": 52,
     "metadata": {},
     "output_type": "execute_result"
    }
   ],
   "source": [
    "city_plot  = pd.read_csv(to_load)\n",
    "city_plot.head(10)"
   ]
  },
  {
   "cell_type": "code",
   "execution_count": 60,
   "id": "1cd9e1b5",
   "metadata": {},
   "outputs": [
    {
     "data": {
      "text/html": [
       "<div>\n",
       "<style scoped>\n",
       "    .dataframe tbody tr th:only-of-type {\n",
       "        vertical-align: middle;\n",
       "    }\n",
       "\n",
       "    .dataframe tbody tr th {\n",
       "        vertical-align: top;\n",
       "    }\n",
       "\n",
       "    .dataframe thead th {\n",
       "        text-align: right;\n",
       "    }\n",
       "</style>\n",
       "<table border=\"1\" class=\"dataframe\">\n",
       "  <thead>\n",
       "    <tr style=\"text-align: right;\">\n",
       "      <th></th>\n",
       "      <th>City</th>\n",
       "      <th>Number of Retirement Homes</th>\n",
       "    </tr>\n",
       "  </thead>\n",
       "  <tbody>\n",
       "    <tr>\n",
       "      <th>0</th>\n",
       "      <td>Ottawa</td>\n",
       "      <td>80</td>\n",
       "    </tr>\n",
       "    <tr>\n",
       "      <th>1</th>\n",
       "      <td>Toronto</td>\n",
       "      <td>76</td>\n",
       "    </tr>\n",
       "    <tr>\n",
       "      <th>2</th>\n",
       "      <td>Hamilton</td>\n",
       "      <td>33</td>\n",
       "    </tr>\n",
       "    <tr>\n",
       "      <th>3</th>\n",
       "      <td>Mississauga</td>\n",
       "      <td>23</td>\n",
       "    </tr>\n",
       "    <tr>\n",
       "      <th>4</th>\n",
       "      <td>London</td>\n",
       "      <td>20</td>\n",
       "    </tr>\n",
       "    <tr>\n",
       "      <th>5</th>\n",
       "      <td>Kitchener</td>\n",
       "      <td>15</td>\n",
       "    </tr>\n",
       "    <tr>\n",
       "      <th>6</th>\n",
       "      <td>Barrie</td>\n",
       "      <td>12</td>\n",
       "    </tr>\n",
       "    <tr>\n",
       "      <th>7</th>\n",
       "      <td>Windsor</td>\n",
       "      <td>12</td>\n",
       "    </tr>\n",
       "    <tr>\n",
       "      <th>8</th>\n",
       "      <td>Oakville</td>\n",
       "      <td>12</td>\n",
       "    </tr>\n",
       "    <tr>\n",
       "      <th>9</th>\n",
       "      <td>Burlington</td>\n",
       "      <td>11</td>\n",
       "    </tr>\n",
       "  </tbody>\n",
       "</table>\n",
       "</div>"
      ],
      "text/plain": [
       "          City  Number of Retirement Homes\n",
       "0       Ottawa                          80\n",
       "1      Toronto                          76\n",
       "2     Hamilton                          33\n",
       "3  Mississauga                          23\n",
       "4       London                          20\n",
       "5    Kitchener                          15\n",
       "6       Barrie                          12\n",
       "7      Windsor                          12\n",
       "8     Oakville                          12\n",
       "9   Burlington                          11"
      ]
     },
     "execution_count": 60,
     "metadata": {},
     "output_type": "execute_result"
    }
   ],
   "source": [
    "city_plot_summary = city_plot.rename(columns={'COMMUNITY': 'City', 'COMMUNITY.1': 'Number of Retirement Homes'})\n",
    "city_plot_summary.head(10)"
   ]
  },
  {
   "cell_type": "code",
   "execution_count": 80,
   "id": "574cd874",
   "metadata": {},
   "outputs": [],
   "source": [
    "#new_city = city_plot_summary[(city_plot_summary[\"Number of Retirement Homes\"] > \"Ottawa\"  )]\n",
    "#Ottawa_df"
   ]
  },
  {
   "cell_type": "code",
   "execution_count": 87,
   "id": "ca28f942",
   "metadata": {},
   "outputs": [
    {
     "data": {
      "text/plain": [
       "Text(0, 0.5, 'Number of Retirement Homes')"
      ]
     },
     "execution_count": 87,
     "metadata": {},
     "output_type": "execute_result"
    },
    {
     "data": {
      "image/png": "[encoded data removed]",
      "text/plain": [
       "<Figure size 576x360 with 1 Axes>"
      ]
     },
     "metadata": {
      "needs_background": "light"
     },
     "output_type": "display_data"
    }
   ],
   "source": [
    "Homes = ['Ottawa','Toronto','Hamilton','Mississauga','London','Kitchener','Barrie','Windsor','Oakville', 'Burlington']\n",
    "City = [80, 76, 33, 23, 20, 15, 12, 12, 12, 11]\n",
    "\n",
    "\n",
    "\n",
    "tick_locations = [value for value in Homes]\n",
    "\n",
    "plt.figure(figsize=(8,5))\n",
    "plt.bar(Homes, City, alpha=0.5, align=\"center\", width =  0.5)\n",
    "plt.xticks(tick_locations,   rotation=\"90\")\n",
    "\n",
    "plt.xlim(-0.5, len(Homes))\n",
    "plt.ylim(0, 85)\n",
    "\n",
    "# Set a Title and labels\n",
    "plt.xlabel(\"City\")\n",
    "plt.ylabel(\"Number of Retirement Homes\")"
   ]
  },
  {
   "cell_type": "code",
   "execution_count": 91,
   "id": "5509bba6",
   "metadata": {},
   "outputs": [
    {
     "data": {
      "text/plain": [
       "<Figure size 432x288 with 0 Axes>"
      ]
     },
     "metadata": {},
     "output_type": "display_data"
    }
   ],
   "source": [
    "plt.savefig(\"output/topTen.png\")\n",
    "plt.show()"
   ]
  },
  {
   "cell_type": "code",
   "execution_count": null,
   "id": "50b815bd",
   "metadata": {},
   "outputs": [],
   "source": []
  }
 ],
 "metadata": {
  "kernelspec": {
   "display_name": "Python 3 (ipykernel)",
   "language": "python",
   "name": "python3"
  },
  "language_info": {
   "codemirror_mode": {
    "name": "ipython",
    "version": 3
   },
   "file_extension": ".py",
   "mimetype": "text/x-python",
   "name": "python",
   "nbconvert_exporter": "python",
   "pygments_lexer": "ipython3",
   "version": "3.7.7"
  }
 },
 "nbformat": 4,
 "nbformat_minor": 5
}
