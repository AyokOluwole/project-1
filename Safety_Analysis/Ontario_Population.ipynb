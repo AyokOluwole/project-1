{
 "cells": [
  {
   "cell_type": "code",
   "execution_count": 22,
   "metadata": {},
   "outputs": [],
   "source": [
    "import pandas as pd"
   ]
  },
  {
   "cell_type": "code",
   "execution_count": 23,
   "metadata": {},
   "outputs": [],
   "source": [
    "# Store filepath in a variable\n",
    "population_file = \"../Project/Resources/Raw_Data/Ont_Population.csv\""
   ]
  },
  {
   "cell_type": "code",
   "execution_count": 24,
   "metadata": {},
   "outputs": [
    {
     "data": {
      "text/html": [
       "<div>\n",
       "<style scoped>\n",
       "    .dataframe tbody tr th:only-of-type {\n",
       "        vertical-align: middle;\n",
       "    }\n",
       "\n",
       "    .dataframe tbody tr th {\n",
       "        vertical-align: top;\n",
       "    }\n",
       "\n",
       "    .dataframe thead th {\n",
       "        text-align: right;\n",
       "    }\n",
       "</style>\n",
       "<table border=\"1\" class=\"dataframe\">\n",
       "  <thead>\n",
       "    <tr style=\"text-align: right;\">\n",
       "      <th></th>\n",
       "      <th>Rank</th>\n",
       "      <th>Population centre[2]</th>\n",
       "      <th>Size group[2]</th>\n",
       "      <th>Population (2021)[2]</th>\n",
       "      <th>Land area (km2)[2]</th>\n",
       "      <th>Population density[2]</th>\n",
       "    </tr>\n",
       "  </thead>\n",
       "  <tbody>\n",
       "    <tr>\n",
       "      <th>0</th>\n",
       "      <td>1</td>\n",
       "      <td>TORONTO</td>\n",
       "      <td>Large urban</td>\n",
       "      <td>5,647,656</td>\n",
       "      <td>1,829.05</td>\n",
       "      <td>3,087.8/km2</td>\n",
       "    </tr>\n",
       "    <tr>\n",
       "      <th>1</th>\n",
       "      <td>2</td>\n",
       "      <td>OTTAWA</td>\n",
       "      <td>Large urban</td>\n",
       "      <td>1,068,821</td>\n",
       "      <td>549.49</td>\n",
       "      <td>1,945.1/km2</td>\n",
       "    </tr>\n",
       "  </tbody>\n",
       "</table>\n",
       "</div>"
      ],
      "text/plain": [
       "   Rank Population centre[2] Size group[2] Population (2021)[2]  \\\n",
       "0     1              TORONTO   Large urban            5,647,656   \n",
       "1     2               OTTAWA   Large urban            1,068,821   \n",
       "\n",
       "  Land area (km2)[2] Population density[2]  \n",
       "0           1,829.05           3,087.8/km2  \n",
       "1             549.49           1,945.1/km2  "
      ]
     },
     "execution_count": 24,
     "metadata": {},
     "output_type": "execute_result"
    }
   ],
   "source": [
    "# Read the Data file with the pandas library\n",
    "pop_df = pd.read_csv(population_file)\n",
    "\n",
    "pop_df.head(2)"
   ]
  },
  {
   "cell_type": "code",
   "execution_count": 25,
   "metadata": {},
   "outputs": [
    {
     "data": {
      "text/html": [
       "<div>\n",
       "<style scoped>\n",
       "    .dataframe tbody tr th:only-of-type {\n",
       "        vertical-align: middle;\n",
       "    }\n",
       "\n",
       "    .dataframe tbody tr th {\n",
       "        vertical-align: top;\n",
       "    }\n",
       "\n",
       "    .dataframe thead th {\n",
       "        text-align: right;\n",
       "    }\n",
       "</style>\n",
       "<table border=\"1\" class=\"dataframe\">\n",
       "  <thead>\n",
       "    <tr style=\"text-align: right;\">\n",
       "      <th></th>\n",
       "      <th>City</th>\n",
       "      <th>Total Population</th>\n",
       "      <th>Land area (km2)[2]</th>\n",
       "    </tr>\n",
       "  </thead>\n",
       "  <tbody>\n",
       "    <tr>\n",
       "      <th>0</th>\n",
       "      <td>TORONTO</td>\n",
       "      <td>5,647,656</td>\n",
       "      <td>1,829.05</td>\n",
       "    </tr>\n",
       "    <tr>\n",
       "      <th>1</th>\n",
       "      <td>OTTAWA</td>\n",
       "      <td>1,068,821</td>\n",
       "      <td>549.49</td>\n",
       "    </tr>\n",
       "    <tr>\n",
       "      <th>2</th>\n",
       "      <td>HAMILTON</td>\n",
       "      <td>729,560</td>\n",
       "      <td>356.03</td>\n",
       "    </tr>\n",
       "    <tr>\n",
       "      <th>3</th>\n",
       "      <td>KITCHENER</td>\n",
       "      <td>522,888</td>\n",
       "      <td>296.45</td>\n",
       "    </tr>\n",
       "    <tr>\n",
       "      <th>4</th>\n",
       "      <td>LONDON</td>\n",
       "      <td>423,369</td>\n",
       "      <td>244.97</td>\n",
       "    </tr>\n",
       "  </tbody>\n",
       "</table>\n",
       "</div>"
      ],
      "text/plain": [
       "        City Total Population Land area (km2)[2]\n",
       "0    TORONTO        5,647,656           1,829.05\n",
       "1     OTTAWA        1,068,821             549.49\n",
       "2   HAMILTON          729,560             356.03\n",
       "3  KITCHENER          522,888             296.45\n",
       "4     LONDON          423,369             244.97"
      ]
     },
     "execution_count": 25,
     "metadata": {},
     "output_type": "execute_result"
    }
   ],
   "source": [
    "organized_df = pop_df[['Population centre[2]', 'Population (2021)[2]', 'Land area (km2)[2]']]\n",
    "\n",
    "organized_df = organized_df.rename(columns={'Population centre[2]': \"City\", 'Population (2021)[2]': \"Total Population\"})\n",
    "\n",
    "organized_df.head()"
   ]
  },
  {
   "cell_type": "code",
   "execution_count": 26,
   "metadata": {},
   "outputs": [],
   "source": [
    "#Save the final copy to CSV\n",
    "\n",
    "organized_df.to_csv(\"../Project/Resources/Cleaned_Data/Ont_Population.csv\", encoding=\"utf-8\")"
   ]
  }
 ],
 "metadata": {
  "kernelspec": {
   "display_name": "Python 3",
   "language": "python",
   "name": "python3"
  },
  "language_info": {
   "codemirror_mode": {
    "name": "ipython",
    "version": 3
   },
   "file_extension": ".py",
   "mimetype": "text/x-python",
   "name": "python",
   "nbconvert_exporter": "python",
   "pygments_lexer": "ipython3",
   "version": "3.10.7"
  },
  "orig_nbformat": 4,
  "vscode": {
   "interpreter": {
    "hash": "e657b2fc417f4b9571d2515230413541d8c4188abfc93faf463c5a7b3af9642e"
   }
  }
 },
 "nbformat": 4,
 "nbformat_minor": 2
}
