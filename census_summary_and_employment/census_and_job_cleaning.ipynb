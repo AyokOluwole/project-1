{
 "cells": [
  {
   "cell_type": "code",
   "execution_count": 1,
   "metadata": {},
   "outputs": [],
   "source": [
    "# Import dependencies\n",
    "import pandas as pd\n",
    "import os"
   ]
  },
  {
   "cell_type": "code",
   "execution_count": 19,
   "metadata": {},
   "outputs": [],
   "source": [
    "# Below are the ABSOLUTE paths to the csv files (since they are too big for git without large file handling)\n",
    "    # PATHS WILL BE DIFFERENT FOR EACH COMPUTER\n",
    "\n",
    "census_file_er = \"C:/Users/kronh/OneDrive/Coding_bootcamp/project_1_datasources/2021_census_data_economic_regions/98-401-X2021008_English_CSV_data.csv\"\n",
    "\n",
    "census_file_cd_csd = \"C:/Users/kronh/OneDrive/Coding_bootcamp/project_1_datasources/2021_census_data_cd_cds/98-401-X2021005_English_CSV_data.csv\"\n",
    "\n",
    "employment_nums = \"C:/Users/kronh/OneDrive/Coding_bootcamp/project_1_datasources/employment_by_occupation/14100389.csv\"\n",
    "\n",
    "wages = \"C:/Users/kronh/OneDrive/Coding_bootcamp/project_1_datasources/wage_data_2021_by_region_and_job.csv\""
   ]
  },
  {
   "cell_type": "code",
   "execution_count": 20,
   "metadata": {},
   "outputs": [
    {
     "name": "stdout",
     "output_type": "stream",
     "text": [
      "   REF_DATE     GEO           DGUID  \\\n",
      "0      2006  Canada  2016A000011124   \n",
      "1      2006  Canada  2016A000011124   \n",
      "2      2006  Canada  2016A000011124   \n",
      "3      2006  Canada  2016A000011124   \n",
      "4      2006  Canada  2016A000011124   \n",
      "\n",
      "          National Occupational Classification (NOC)      UOM  UOM_ID  \\\n",
      "0                    Total employed, all occupations  Persons     249   \n",
      "1                         Management occupations [0]  Persons     249   \n",
      "2                 Senior management occupations [00]  Persons     249   \n",
      "3  Specialized middle management occupations [01-05]  Persons     249   \n",
      "4  Middle management occupations in retail and wh...  Persons     249   \n",
      "\n",
      "  SCALAR_FACTOR  SCALAR_ID       VECTOR  COORDINATE    VALUE STATUS  SYMBOL  \\\n",
      "0     thousands          3  v1235066875         1.1  16375.0    NaN     NaN   \n",
      "1     thousands          3  v1235066876         1.2   1696.9    NaN     NaN   \n",
      "2     thousands          3  v1235066877         1.3     90.5    NaN     NaN   \n",
      "3     thousands          3  v1235066878         1.4    464.0    NaN     NaN   \n",
      "4     thousands          3  v1235066879         1.5    645.5    NaN     NaN   \n",
      "\n",
      "   TERMINATED  DECIMALS  \n",
      "0         NaN         1  \n",
      "1         NaN         1  \n",
      "2         NaN         1  \n",
      "3         NaN         1  \n",
      "4         NaN         1  \n"
     ]
    }
   ],
   "source": [
    "# Reads each csv into a DataFrame\n",
    "\n",
    "census_er_df = pd.read_csv(census_file_er, encoding='ISO-8859-1')\n",
    "census_cd_csd_df = pd.read_csv(census_file_cd_csd, encoding='ISO-8859-1')\n",
    "employment_df = pd.read_csv(employment_nums)\n",
    "wages_df = pd.read_csv(wages)\n",
    "print(employment_df.head(5))"
   ]
  }
 ],
 "metadata": {
  "kernelspec": {
   "display_name": "base",
   "language": "python",
   "name": "python3"
  },
  "language_info": {
   "codemirror_mode": {
    "name": "ipython",
    "version": 3
   },
   "file_extension": ".py",
   "mimetype": "text/x-python",
   "name": "python",
   "nbconvert_exporter": "python",
   "pygments_lexer": "ipython3",
   "version": "3.9.13"
  },
  "orig_nbformat": 4,
  "vscode": {
   "interpreter": {
    "hash": "77cde938a7cce79b7fcae073851c2ff30dbb54224260dc697771b01f9c507dbe"
   }
  }
 },
 "nbformat": 4,
 "nbformat_minor": 2
}
